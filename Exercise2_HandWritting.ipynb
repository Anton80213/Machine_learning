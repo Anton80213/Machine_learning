{
  "nbformat": 4,
  "nbformat_minor": 0,
  "metadata": {
    "coursera": {
      "course_slug": "introduction-tensorflow",
      "graded_item_id": "d6dew",
      "launcher_item_id": "FExZ4"
    },
    "kernelspec": {
      "display_name": "Python 3",
      "language": "python",
      "name": "python3"
    },
    "language_info": {
      "codemirror_mode": {
        "name": "ipython",
        "version": 3
      },
      "file_extension": ".py",
      "mimetype": "text/x-python",
      "name": "python",
      "nbconvert_exporter": "python",
      "pygments_lexer": "ipython3",
      "version": "3.6.8"
    },
    "colab": {
      "name": "Exercise2-HandWritting.ipynb",
      "provenance": [],
      "include_colab_link": true
    }
  },
  "cells": [
    {
      "cell_type": "markdown",
      "metadata": {
        "id": "view-in-github",
        "colab_type": "text"
      },
      "source": [
        "<a href=\"https://colab.research.google.com/github/Anton80213/Machine_learning/blob/main/Exercise2_HandWritting.ipynb\" target=\"_parent\"><img src=\"https://colab.research.google.com/assets/colab-badge.svg\" alt=\"Open In Colab\"/></a>"
      ]
    },
    {
      "cell_type": "markdown",
      "metadata": {
        "id": "tOoyQ70H00_s"
      },
      "source": [
        "## Упражнение 2\n",
        "Напишите классификатор MNIST, который обучается до точности 99% или выше и делает это без фиксированного числа эпох - то есть вы должны прекратить обучение, как только достигнете этого уровня точности.\n",
        "\n",
        "1. Этого надо достигнуть менее чем за 10 эпох, поэтому можно установить epoches=10, но не более.\n",
        "2. Когда точность станет 99% или больше, надо распечатать строку «Достигнута точность 99%, поэтому обучение закончено!»\n"
      ]
    },
    {
      "cell_type": "code",
      "metadata": {
        "id": "IJkWdQTijqob"
      },
      "source": [
        "import tensorflow as tf\n",
        "from os import path, getcwd, chdir\n",
        "# Не изменяйте эту строку\n",
        "# если ваша разработка производится на локальном сервере\n",
        "# заберите mnist.npz из github\n",
        "# поместите в локальную папку и пропишите на нее путь \n",
        "path = f\"{getcwd()}/../tmp2/mnist.npz\""
      ],
      "execution_count": null,
      "outputs": []
    },
    {
      "cell_type": "code",
      "metadata": {
        "id": "9rvXQGAA0ssC"
      },
      "source": [
        "def train_mnist():\n",
        "\n",
        "    # YOUR CODE SHOULD START HERE\n",
        "    from keras.layers import Flatten, Dense\n",
        "    # YOUR CODE SHOULD END HERE\n",
        "    import tensorflow as tf\n",
        "    class myCallback(tf.keras.callbacks.Callback):\n",
        "       def on_epoch_end(self, epoch, logs={}):\n",
        "         if(logs.get('accuracy')>=0.99):\n",
        "           print(\"\\nДостигнута точность 99%, поэтому обучение закончено!\")\n",
        "           self.model.stop_training = True\n",
        "    mnist = tf.keras.datasets.mnist\n",
        "    \n",
        "    (x_train, y_train),(x_test, y_test) = mnist.load_data()\n",
        "    # YOUR CODE SHOULD START HERE\n",
        "    x_train, x_test = x_train / 255.0, x_test / 255.0\n",
        "    callbacks = myCallback()\n",
        "    # YOUR CODE SHOULD END HERE\n",
        "    model = tf.keras.models.Sequential([\n",
        "    # YOUR CODE SHOULD START HERE\n",
        "    Flatten(input_shape=(28, 28, 1)),\n",
        "    Dense(128, activation='relu'),\n",
        "    Dense(10, activation='softmax')\n",
        "    # YOUR CODE SHOULD END HERE\n",
        "    ])\n",
        "\n",
        "    model.compile(optimizer='adam',\n",
        "                  loss='sparse_categorical_crossentropy',\n",
        "                  metrics=['accuracy'])\n",
        "\n",
        "    # YOUR CODE SHOULD START HERE\n",
        "    history = model.fit(x_train, y_train, epochs=10, callbacks=[callbacks])\n",
        "    model.evaluate(x_test, y_test)\n",
        "    \n",
        "    # YOUR CODE SHOULD END HERE\n",
        "    \n",
        "    return history.epoch, history.history['accuracy'][-1]"
      ],
      "execution_count": 19,
      "outputs": []
    },
    {
      "cell_type": "code",
      "metadata": {
        "scrolled": true,
        "id": "L_J7CcoTjqoc",
        "colab": {
          "base_uri": "https://localhost:8080/"
        },
        "outputId": "32b49ee5-f317-4fb7-f91d-86f4620dbc00"
      },
      "source": [
        "train_mnist()"
      ],
      "execution_count": 20,
      "outputs": [
        {
          "output_type": "stream",
          "text": [
            "Epoch 1/10\n",
            "1875/1875 [==============================] - 4s 2ms/step - loss: 0.4305 - accuracy: 0.8769\n",
            "Epoch 2/10\n",
            "1875/1875 [==============================] - 4s 2ms/step - loss: 0.1215 - accuracy: 0.9640\n",
            "Epoch 3/10\n",
            "1875/1875 [==============================] - 4s 2ms/step - loss: 0.0748 - accuracy: 0.9785\n",
            "Epoch 4/10\n",
            "1875/1875 [==============================] - 4s 2ms/step - loss: 0.0555 - accuracy: 0.9834\n",
            "Epoch 5/10\n",
            "1875/1875 [==============================] - 4s 2ms/step - loss: 0.0419 - accuracy: 0.9869\n",
            "Epoch 6/10\n",
            "1875/1875 [==============================] - 4s 2ms/step - loss: 0.0344 - accuracy: 0.9892\n",
            "Epoch 7/10\n",
            "1875/1875 [==============================] - 4s 2ms/step - loss: 0.0257 - accuracy: 0.9922\n",
            "\n",
            "Достигнута точность 99%, поэтому обучение закончено!\n",
            "313/313 [==============================] - 0s 1ms/step - loss: 0.0754 - accuracy: 0.9770\n"
          ],
          "name": "stdout"
        },
        {
          "output_type": "execute_result",
          "data": {
            "text/plain": [
              "([0, 1, 2, 3, 4, 5, 6], 0.9917333126068115)"
            ]
          },
          "metadata": {
            "tags": []
          },
          "execution_count": 20
        }
      ]
    }
  ]
}