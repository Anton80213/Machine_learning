{
  "nbformat": 4,
  "nbformat_minor": 0,
  "metadata": {
    "coursera": {
      "course_slug": "introduction-tensorflow",
      "graded_item_id": "1kAlw",
      "launcher_item_id": "PNLYD"
    },
    "kernelspec": {
      "display_name": "Python 3",
      "language": "python",
      "name": "python3"
    },
    "language_info": {
      "codemirror_mode": {
        "name": "ipython",
        "version": 3
      },
      "file_extension": ".py",
      "mimetype": "text/x-python",
      "name": "python",
      "nbconvert_exporter": "python",
      "pygments_lexer": "ipython3",
      "version": "3.6.8"
    },
    "colab": {
      "name": "Exercise4-Question.ipynb",
      "provenance": [],
      "include_colab_link": true
    }
  },
  "cells": [
    {
      "cell_type": "markdown",
      "metadata": {
        "id": "view-in-github",
        "colab_type": "text"
      },
      "source": [
        "<a href=\"https://colab.research.google.com/github/Anton80213/Machine_learning/blob/main/Exercise4-Question.ipynb\" target=\"_parent\"><img src=\"https://colab.research.google.com/assets/colab-badge.svg\" alt=\"Open In Colab\"/></a>"
      ]
    },
    {
      "cell_type": "markdown",
      "metadata": {
        "id": "UncprnB0ymAE"
      },
      "source": [
        "Ниже приведен код со ссылкой на набор данных «happy» или «sad», содержащий 80 изображений, 40 счастливых и 40 грустных.\n",
        "Создайте сверточную нейронную сеть, которая обучается со 100% точностью на этих изображениях, с отменой обучения при достижении точности обучения .999"
      ]
    },
    {
      "cell_type": "code",
      "metadata": {
        "id": "-ALIEF4A2tTr",
        "outputId": "5896887e-a2d7-47c0-e8fb-71382ad2759f",
        "colab": {
          "base_uri": "https://localhost:8080/"
        }
      },
      "source": [
        "import tensorflow as tf\n",
        "import os\n",
        "import zipfile\n",
        "#\n",
        "!wget --no-check-certificate \"https://storage.googleapis.com/laurencemoroney-blog.appspot.com/happy-or-sad.zip\" \\\n",
        "   -O \"/tmp/happy-or-sad.zip\"\n",
        "\n",
        "zip_ref = zipfile.ZipFile(\"/tmp/happy-or-sad.zip\", 'r')\n",
        "zip_ref.extractall(\"/tmp/h-or-s\")\n",
        "zip_ref.close()\n"
      ],
      "execution_count": 1,
      "outputs": [
        {
          "output_type": "stream",
          "text": [
            "--2021-06-05 09:44:01--  https://storage.googleapis.com/laurencemoroney-blog.appspot.com/happy-or-sad.zip\n",
            "Resolving storage.googleapis.com (storage.googleapis.com)... 142.251.33.208, 142.250.65.80, 172.217.9.208, ...\n",
            "Connecting to storage.googleapis.com (storage.googleapis.com)|142.251.33.208|:443... connected.\n",
            "HTTP request sent, awaiting response... 200 OK\n",
            "Length: 2670333 (2.5M) [application/zip]\n",
            "Saving to: ‘/tmp/happy-or-sad.zip’\n",
            "\n",
            "\r/tmp/happy-or-sad.z   0%[                    ]       0  --.-KB/s               \r/tmp/happy-or-sad.z 100%[===================>]   2.55M  --.-KB/s    in 0.02s   \n",
            "\n",
            "2021-06-05 09:44:02 (103 MB/s) - ‘/tmp/happy-or-sad.zip’ saved [2670333/2670333]\n",
            "\n"
          ],
          "name": "stdout"
        }
      ]
    },
    {
      "cell_type": "code",
      "metadata": {
        "id": "11_S4Hd66Lqd",
        "outputId": "15c81b1c-007b-405c-a6ae-2dafa5aeba9c",
        "colab": {
          "base_uri": "https://localhost:8080/"
        }
      },
      "source": [
        "import os\n",
        "\n",
        "train_happy_dir = os.path.join('/tmp/h-or-s/happy')\n",
        "\n",
        "train_sad_dir = os.path.join('/tmp/h-or-s/sad')\n",
        "\n",
        "train_happy_names = os.listdir(train_happy_dir)\n",
        "print(train_happy_names[:10])\n",
        "\n",
        "train_sad_names = os.listdir(train_sad_dir)\n",
        "print(train_sad_names[:10])"
      ],
      "execution_count": 2,
      "outputs": [
        {
          "output_type": "stream",
          "text": [
            "['happy2-05.png', 'happy2-12.png', 'happy1-13.png', 'happy1-01.png', 'happy1-10.png', 'happy2-08.png', 'happy2-14.png', 'happy1-06.png', 'happy2-10.png', 'happy1-17.png']\n",
            "['sad2-06.png', 'sad2-10.png', 'sad1-06.png', 'sad2-04.png', 'sad1-03.png', 'sad2-13.png', 'sad1-02.png', 'sad2-17.png', 'sad1-01.png', 'sad2-09.png']\n"
          ],
          "name": "stdout"
        }
      ]
    },
    {
      "cell_type": "code",
      "metadata": {
        "id": "5gZoRjft2tTw"
      },
      "source": [
        "def train_happy_sad_model():\n",
        "\n",
        "    DESIRED_ACCURACY = 0.999\n",
        "    from tensorflow import keras\n",
        "    from tensorflow.keras.layers import Dense, Flatten, Conv2D, MaxPooling2D\n",
        "    import tensorflow as tf\n",
        "    \n",
        "    class myCallback(tf.keras.callbacks.Callback):\n",
        "         # Your Code\n",
        "        def on_epoch_end(self, epoch, logs={}):\n",
        "          if(logs.get('acc')>=DESIRED_ACCURACY):\n",
        "             print(\"\\nДостигнута точность 99.9%, обучение прерывается!\")\n",
        "             self.model.stop_training = True\n",
        "    \n",
        "    callbacks = myCallback()\n",
        "    \n",
        "    # Этот блок кода должен задать и скомпилировать модель. Пожалуйста, имейте в виду, что размер изображений 150 X 150\n",
        "    model = tf.keras.models.Sequential([\n",
        "        # Здесь ваш код\n",
        "    tf.keras.layers.Conv2D(16, (3,3), activation='relu', input_shape=(150, 150, 3)),\n",
        "    tf.keras.layers.MaxPooling2D(2, 2),\n",
        "    \n",
        "    tf.keras.layers.Conv2D(32, (3,3), activation='relu'),\n",
        "    tf.keras.layers.MaxPooling2D(2,2),\n",
        "    \n",
        "    tf.keras.layers.Conv2D(64, (3,3), activation='relu'),\n",
        "    tf.keras.layers.MaxPooling2D(2,2),\n",
        "    \n",
        "    tf.keras.layers.Flatten(),\n",
        "\n",
        "    tf.keras.layers.Dense(512, activation='relu'),\n",
        "    \n",
        "    tf.keras.layers.Dense(1, activation='sigmoid')\n",
        "    ])\n",
        "\n",
        "    from tensorflow.keras.optimizers import RMSprop\n",
        "\n",
        "    model.compile(loss='binary_crossentropy',\n",
        "              optimizer=RMSprop(lr=0.001),\n",
        "              metrics=['acc'])\n",
        "        \n",
        "\n",
        "     # Этот блок кода должен создать экземпляр ImageDataGenerator с именем train_datagen\n",
        "      # и train_generator, вызовом train_datagen.flow_from_directory\n",
        "\n",
        "    from tensorflow.keras.preprocessing.image import ImageDataGenerator\n",
        "\n",
        "    train_datagen = ImageDataGenerator(rescale=1/255)\n",
        "    # Используйте target_size  150 X 150.\n",
        "    train_generator = train_datagen.flow_from_directory(\n",
        "        # Здесь ваш код #)\n",
        "        '/tmp/h-or-s/',  # Это исходный каталог для тренировочных изображений\n",
        "        target_size=(150, 150),  # все изображения будут изменены до 150x150\n",
        "        batch_size=128,\n",
        "        # поскольку мы используем функцию потерь binary_crossentropy, нам нужны двоичные метки\n",
        "        class_mode='binary')\n",
        "    # ожидаемая строка вывода: 'Found 80 images belonging to 2 classes'\n",
        "    \n",
        "    history = model.fit_generator(\n",
        "          # Ваш код здесь )\n",
        "    # model fitting\n",
        "    train_generator,\n",
        "    steps_per_epoch=1,  \n",
        "    epochs=30,\n",
        "    callbacks=[callbacks],\n",
        "    verbose=1 \n",
        "    )\n",
        "    return history.history['acc'][-1]"
      ],
      "execution_count": 24,
      "outputs": []
    },
    {
      "cell_type": "code",
      "metadata": {
        "id": "XtZC9HlK2tTz",
        "outputId": "89ae48df-5241-4605-e961-d0332eb72da2",
        "colab": {
          "base_uri": "https://localhost:8080/"
        }
      },
      "source": [
        "# ожидаемая строка вывода: \"Достигнута точность 99.9%, обучение прерывается!\"\n",
        "train_happy_sad_model()"
      ],
      "execution_count": 25,
      "outputs": [
        {
          "output_type": "stream",
          "text": [
            "/usr/local/lib/python3.7/dist-packages/tensorflow/python/keras/optimizer_v2/optimizer_v2.py:375: UserWarning: The `lr` argument is deprecated, use `learning_rate` instead.\n",
            "  \"The `lr` argument is deprecated, use `learning_rate` instead.\")\n",
            "/usr/local/lib/python3.7/dist-packages/tensorflow/python/keras/engine/training.py:1940: UserWarning: `Model.fit_generator` is deprecated and will be removed in a future version. Please use `Model.fit`, which supports generators.\n",
            "  warnings.warn('`Model.fit_generator` is deprecated and '\n"
          ],
          "name": "stderr"
        },
        {
          "output_type": "stream",
          "text": [
            "Found 80 images belonging to 2 classes.\n",
            "Epoch 1/30\n",
            "1/1 [==============================] - 2s 2s/step - loss: 0.6912 - acc: 0.5000\n",
            "Epoch 2/30\n",
            "1/1 [==============================] - 2s 2s/step - loss: 5.9255 - acc: 0.5000\n",
            "Epoch 3/30\n",
            "1/1 [==============================] - 2s 2s/step - loss: 1.5013 - acc: 0.5000\n",
            "Epoch 4/30\n",
            "1/1 [==============================] - 2s 2s/step - loss: 0.6949 - acc: 0.5000\n",
            "Epoch 5/30\n",
            "1/1 [==============================] - 2s 2s/step - loss: 0.6595 - acc: 0.5000\n",
            "Epoch 6/30\n",
            "1/1 [==============================] - 2s 2s/step - loss: 0.6292 - acc: 0.5875\n",
            "Epoch 7/30\n",
            "1/1 [==============================] - 2s 2s/step - loss: 0.5829 - acc: 0.6500\n",
            "Epoch 8/30\n",
            "1/1 [==============================] - 2s 2s/step - loss: 0.6393 - acc: 0.5000\n",
            "Epoch 9/30\n",
            "1/1 [==============================] - 2s 2s/step - loss: 0.6450 - acc: 0.5000\n",
            "Epoch 10/30\n",
            "1/1 [==============================] - 2s 2s/step - loss: 0.4890 - acc: 0.8875\n",
            "Epoch 11/30\n",
            "1/1 [==============================] - 2s 2s/step - loss: 0.4387 - acc: 0.7500\n",
            "Epoch 12/30\n",
            "1/1 [==============================] - 2s 2s/step - loss: 0.3656 - acc: 0.9000\n",
            "Epoch 13/30\n",
            "1/1 [==============================] - 2s 2s/step - loss: 0.3003 - acc: 0.7875\n",
            "Epoch 14/30\n",
            "1/1 [==============================] - 2s 2s/step - loss: 0.2399 - acc: 0.9250\n",
            "Epoch 15/30\n",
            "1/1 [==============================] - 2s 2s/step - loss: 0.1999 - acc: 1.0000\n",
            "\n",
            "Достигнута точность 99.9%, обучение прерывается!\n"
          ],
          "name": "stdout"
        },
        {
          "output_type": "execute_result",
          "data": {
            "text/plain": [
              "1.0"
            ]
          },
          "metadata": {
            "tags": []
          },
          "execution_count": 25
        }
      ]
    }
  ]
}